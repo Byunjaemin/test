{
  "nbformat": 4,
  "nbformat_minor": 0,
  "metadata": {
    "colab": {
      "name": "Untitled",
      "provenance": [],
      "authorship_tag": "ABX9TyO5yUD3r4ryQ8/06kow18iD",
      "include_colab_link": true
    },
    "kernelspec": {
      "name": "python3",
      "display_name": "Python 3"
    }
  },
  "cells": [
    {
      "cell_type": "markdown",
      "metadata": {
        "id": "view-in-github",
        "colab_type": "text"
      },
      "source": [
        "<a href=\"https://colab.research.google.com/github/Byunjaemin/test/blob/main/Untitled.ipynb\" target=\"_parent\"><img src=\"https://colab.research.google.com/assets/colab-badge.svg\" alt=\"Open In Colab\"/></a>"
      ]
    },
    {
      "cell_type": "code",
      "metadata": {
        "colab": {
          "base_uri": "https://localhost:8080/"
        },
        "id": "W7V5hP9xhUX0",
        "outputId": "672fe88f-4be7-4d7d-be50-fe48d88301e5"
      },
      "source": [
        "import json\r\n",
        "from glob import glob\r\n",
        "import pandas as pd\r\n",
        "\r\n",
        "# read filenames\r\n",
        "fs = glob('/content/201224_실습데이터/*.json'); fs.sort()\r\n",
        "\r\n",
        "# read json files\r\n",
        "data = []\r\n",
        "for f in fs:\r\n",
        "    with open(f) as json_file:\r\n",
        "        json_data = json.load(json_file)\r\n",
        "    data.append(json_data)\r\n",
        "\r\n",
        "# as DataFrame\r\n",
        "df = pd.DataFrame(data)\r\n",
        "print (df.columns)\r\n",
        "print (df.head(10))\r\n",
        "print (df.tail(10))"
      ],
      "execution_count": null,
      "outputs": [
        {
          "output_type": "stream",
          "text": [
            "Index(['Band_gap_HSE', 'Band_gap_GGA', 'Band_gap_GGA_optical',\n",
            "       'Direct_or_indirect', 'SOC', 'Space_group_rlx', 'Magnetic_ordering',\n",
            "       'Direct_or_indirect_HSE', 'Band_gap_HSE_optical', 'Structure_rlx'],\n",
            "      dtype='object')\n",
            "   Band_gap_HSE  Band_gap_GGA  ...  Band_gap_HSE_optical Structure_rlx\n",
            "0      3.294992      2.037844  ...              3.294992           NaN\n",
            "1      2.143879      0.000000  ...              2.143879           NaN\n",
            "2      2.884742      1.539445  ...              5.131385           NaN\n",
            "3      2.390096      0.845940  ...              5.558663           NaN\n",
            "4      2.835937      1.743398  ...              3.759027           NaN\n",
            "5      3.055806      1.891728  ...              3.055806           NaN\n",
            "6      2.166236      1.137147  ...              2.166236           NaN\n",
            "7      1.838293      1.076390  ...              1.838293           NaN\n",
            "8      0.520156      0.000000  ...              0.520156           NaN\n",
            "9      0.161867      0.000000  ...              0.436166           NaN\n",
            "\n",
            "[10 rows x 10 columns]\n",
            "    Band_gap_HSE  ...                                      Structure_rlx\n",
            "90      3.433337  ...                                                NaN\n",
            "91      2.092385  ...                                                NaN\n",
            "92      2.202747  ...                                                NaN\n",
            "93      2.182708  ...                                                NaN\n",
            "94      4.209930  ...                                                NaN\n",
            "95      3.194673  ...                                                NaN\n",
            "96      4.604647  ...                                                NaN\n",
            "97      4.923812  ...                                                NaN\n",
            "98      4.446148  ...                                                NaN\n",
            "99      2.405207  ...  cif to poscar 'Ag', 'Cl']               \\n   1...\n",
            "\n",
            "[10 rows x 10 columns]\n"
          ],
          "name": "stdout"
        }
      ]
    },
    {
      "cell_type": "code",
      "metadata": {
        "id": "5tHvR9Y5iBPB"
      },
      "source": [
        "import pandas as pd\r\n",
        "\r\n",
        "\r\n",
        "\r\n",
        "  # CSV파일로 저장하기\r\n",
        "\r\n",
        "df.to_csv(\"test.csv\")\r\n",
        "\r\n",
        "\r\n",
        "\r\n",
        "  # CSV파일 읽기\r\n",
        "\r\n",
        "df = pd.read_csv(\"test.csv\")"
      ],
      "execution_count": null,
      "outputs": []
    },
    {
      "cell_type": "code",
      "metadata": {
        "id": "Gny2-bdPjHxg",
        "colab": {
          "base_uri": "https://localhost:8080/",
          "height": 516
        },
        "outputId": "3824f620-98ae-4c45-e284-4215749498b5"
      },
      "source": [
        "import matplotlib.pyplot as plt\r\n",
        "plt.scatter(df['Band_gap_HSE'], df['Band_gap_GGA'])\r\n",
        "plt.show()\r\n",
        "plt.scatter(df['Band_gap_HSE_optical'], df['Band_gap_GGA_optical'])\r\n",
        "plt.show()"
      ],
      "execution_count": 17,
      "outputs": [
        {
          "output_type": "display_data",
          "data": {
            "image/png": "[encoded data removed]",
            "text/plain": [
              "<Figure size 432x288 with 1 Axes>"
            ]
          },
          "metadata": {
            "tags": [],
            "needs_background": "light"
          }
        },
        {
          "output_type": "display_data",
          "data": {
            "image/png": "[encoded data removed]",
            "text/plain": [
              "<Figure size 432x288 with 1 Axes>"
            ]
          },
          "metadata": {
            "tags": [],
            "needs_background": "light"
          }
        }
      ]
    },
    {
      "cell_type": "code",
      "metadata": {
        "id": "9iATDN8bjH3F"
      },
      "source": [
        ""
      ],
      "execution_count": null,
      "outputs": []
    }
  ]
}